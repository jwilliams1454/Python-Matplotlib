{
 "cells": [
  {
   "cell_type": "code",
   "execution_count": 1,
   "metadata": {},
   "outputs": [
    {
     "data": {
      "text/plain": [
       "'C:\\\\Users\\\\jwill\\\\Jupyter Notebooks\\\\Good'"
      ]
     },
     "execution_count": 1,
     "metadata": {},
     "output_type": "execute_result"
    }
   ],
   "source": [
    "import os\n",
    "os.getcwd()"
   ]
  },
  {
   "cell_type": "code",
   "execution_count": 2,
   "metadata": {},
   "outputs": [
    {
     "name": "stdout",
     "output_type": "stream",
     "text": [
      "C:\\Users\\jwill\\Documents\\Machine Learning\\Data\n"
     ]
    }
   ],
   "source": [
    "%cd \"C:\\Users\\jwill\\Documents\\Machine Learning\\Data\""
   ]
  },
  {
   "cell_type": "code",
   "execution_count": 3,
   "metadata": {},
   "outputs": [],
   "source": [
    "import pandas as pd\n",
    "import numpy as np\n",
    "import matplotlib.pyplot as plt\n",
    "\n",
    "fid = pd.read_csv('fidelity.csv')"
   ]
  },
  {
   "cell_type": "code",
   "execution_count": 4,
   "metadata": {
    "scrolled": true
   },
   "outputs": [
    {
     "data": {
      "text/html": [
       "<div>\n",
       "<style scoped>\n",
       "    .dataframe tbody tr th:only-of-type {\n",
       "        vertical-align: middle;\n",
       "    }\n",
       "\n",
       "    .dataframe tbody tr th {\n",
       "        vertical-align: top;\n",
       "    }\n",
       "\n",
       "    .dataframe thead th {\n",
       "        text-align: right;\n",
       "    }\n",
       "</style>\n",
       "<table border=\"1\" class=\"dataframe\">\n",
       "  <thead>\n",
       "    <tr style=\"text-align: right;\">\n",
       "      <th></th>\n",
       "      <th>Year</th>\n",
       "      <th>MSEGX</th>\n",
       "      <th>% change</th>\n",
       "      <th>FOCPX</th>\n",
       "      <th>% change.1</th>\n",
       "      <th>FCNTX</th>\n",
       "      <th>% change.2</th>\n",
       "    </tr>\n",
       "  </thead>\n",
       "  <tbody>\n",
       "    <tr>\n",
       "      <th>0</th>\n",
       "      <td>2021</td>\n",
       "      <td>85.81</td>\n",
       "      <td>0.005861</td>\n",
       "      <td>18.490</td>\n",
       "      <td>0.055365</td>\n",
       "      <td>17.090</td>\n",
       "      <td>0.019690</td>\n",
       "    </tr>\n",
       "    <tr>\n",
       "      <th>1</th>\n",
       "      <td>2020</td>\n",
       "      <td>85.31</td>\n",
       "      <td>0.957999</td>\n",
       "      <td>17.520</td>\n",
       "      <td>0.369820</td>\n",
       "      <td>16.760</td>\n",
       "      <td>0.222465</td>\n",
       "    </tr>\n",
       "    <tr>\n",
       "      <th>2</th>\n",
       "      <td>2019</td>\n",
       "      <td>43.57</td>\n",
       "      <td>0.099697</td>\n",
       "      <td>12.790</td>\n",
       "      <td>0.285427</td>\n",
       "      <td>13.710</td>\n",
       "      <td>0.245232</td>\n",
       "    </tr>\n",
       "    <tr>\n",
       "      <th>3</th>\n",
       "      <td>2018</td>\n",
       "      <td>39.62</td>\n",
       "      <td>-0.003772</td>\n",
       "      <td>9.950</td>\n",
       "      <td>-0.094219</td>\n",
       "      <td>11.010</td>\n",
       "      <td>-0.101004</td>\n",
       "    </tr>\n",
       "    <tr>\n",
       "      <th>4</th>\n",
       "      <td>2017</td>\n",
       "      <td>39.77</td>\n",
       "      <td>0.170739</td>\n",
       "      <td>10.985</td>\n",
       "      <td>0.318411</td>\n",
       "      <td>12.247</td>\n",
       "      <td>0.243855</td>\n",
       "    </tr>\n",
       "    <tr>\n",
       "      <th>5</th>\n",
       "      <td>2016</td>\n",
       "      <td>33.97</td>\n",
       "      <td>-0.135843</td>\n",
       "      <td>8.332</td>\n",
       "      <td>-0.001318</td>\n",
       "      <td>9.846</td>\n",
       "      <td>-0.004952</td>\n",
       "    </tr>\n",
       "    <tr>\n",
       "      <th>6</th>\n",
       "      <td>2015</td>\n",
       "      <td>39.31</td>\n",
       "      <td>0.035291</td>\n",
       "      <td>8.343</td>\n",
       "      <td>0.048643</td>\n",
       "      <td>9.895</td>\n",
       "      <td>0.010003</td>\n",
       "    </tr>\n",
       "    <tr>\n",
       "      <th>7</th>\n",
       "      <td>2014</td>\n",
       "      <td>37.97</td>\n",
       "      <td>0.009572</td>\n",
       "      <td>7.956</td>\n",
       "      <td>0.028040</td>\n",
       "      <td>9.797</td>\n",
       "      <td>0.019035</td>\n",
       "    </tr>\n",
       "    <tr>\n",
       "      <th>8</th>\n",
       "      <td>2013</td>\n",
       "      <td>37.61</td>\n",
       "      <td>0.417640</td>\n",
       "      <td>7.739</td>\n",
       "      <td>0.277273</td>\n",
       "      <td>9.614</td>\n",
       "      <td>0.239397</td>\n",
       "    </tr>\n",
       "    <tr>\n",
       "      <th>9</th>\n",
       "      <td>2012</td>\n",
       "      <td>26.53</td>\n",
       "      <td>0.151976</td>\n",
       "      <td>6.059</td>\n",
       "      <td>0.107678</td>\n",
       "      <td>7.757</td>\n",
       "      <td>0.149867</td>\n",
       "    </tr>\n",
       "    <tr>\n",
       "      <th>10</th>\n",
       "      <td>2011</td>\n",
       "      <td>23.03</td>\n",
       "      <td>-0.033165</td>\n",
       "      <td>5.470</td>\n",
       "      <td>-0.004187</td>\n",
       "      <td>6.746</td>\n",
       "      <td>-0.003986</td>\n",
       "    </tr>\n",
       "    <tr>\n",
       "      <th>11</th>\n",
       "      <td>2010</td>\n",
       "      <td>23.82</td>\n",
       "      <td>0.227835</td>\n",
       "      <td>5.493</td>\n",
       "      <td>0.201444</td>\n",
       "      <td>6.773</td>\n",
       "      <td>0.162148</td>\n",
       "    </tr>\n",
       "    <tr>\n",
       "      <th>12</th>\n",
       "      <td>2009</td>\n",
       "      <td>19.40</td>\n",
       "      <td>0.624791</td>\n",
       "      <td>4.572</td>\n",
       "      <td>0.622427</td>\n",
       "      <td>5.828</td>\n",
       "      <td>0.287671</td>\n",
       "    </tr>\n",
       "    <tr>\n",
       "      <th>13</th>\n",
       "      <td>2008</td>\n",
       "      <td>11.94</td>\n",
       "      <td>-0.511856</td>\n",
       "      <td>2.818</td>\n",
       "      <td>-0.459843</td>\n",
       "      <td>4.526</td>\n",
       "      <td>-0.380933</td>\n",
       "    </tr>\n",
       "    <tr>\n",
       "      <th>14</th>\n",
       "      <td>2007</td>\n",
       "      <td>24.46</td>\n",
       "      <td>0.226065</td>\n",
       "      <td>5.217</td>\n",
       "      <td>0.261364</td>\n",
       "      <td>7.311</td>\n",
       "      <td>0.121319</td>\n",
       "    </tr>\n",
       "    <tr>\n",
       "      <th>15</th>\n",
       "      <td>2006</td>\n",
       "      <td>19.95</td>\n",
       "      <td>0.038522</td>\n",
       "      <td>4.136</td>\n",
       "      <td>0.094469</td>\n",
       "      <td>6.520</td>\n",
       "      <td>0.006794</td>\n",
       "    </tr>\n",
       "    <tr>\n",
       "      <th>16</th>\n",
       "      <td>2005</td>\n",
       "      <td>19.21</td>\n",
       "      <td>0.152370</td>\n",
       "      <td>3.779</td>\n",
       "      <td>0.089363</td>\n",
       "      <td>6.476</td>\n",
       "      <td>0.141346</td>\n",
       "    </tr>\n",
       "    <tr>\n",
       "      <th>17</th>\n",
       "      <td>2004</td>\n",
       "      <td>16.67</td>\n",
       "      <td>0.072026</td>\n",
       "      <td>3.469</td>\n",
       "      <td>0.068371</td>\n",
       "      <td>5.674</td>\n",
       "      <td>0.149747</td>\n",
       "    </tr>\n",
       "    <tr>\n",
       "      <th>18</th>\n",
       "      <td>2003</td>\n",
       "      <td>15.55</td>\n",
       "      <td>0.260130</td>\n",
       "      <td>3.247</td>\n",
       "      <td>0.358009</td>\n",
       "      <td>4.935</td>\n",
       "      <td>0.278497</td>\n",
       "    </tr>\n",
       "    <tr>\n",
       "      <th>19</th>\n",
       "      <td>2002</td>\n",
       "      <td>12.34</td>\n",
       "      <td>-0.277518</td>\n",
       "      <td>2.391</td>\n",
       "      <td>-0.232916</td>\n",
       "      <td>3.860</td>\n",
       "      <td>-0.097498</td>\n",
       "    </tr>\n",
       "    <tr>\n",
       "      <th>20</th>\n",
       "      <td>2001</td>\n",
       "      <td>17.08</td>\n",
       "      <td>-0.118224</td>\n",
       "      <td>3.117</td>\n",
       "      <td>-0.240682</td>\n",
       "      <td>4.277</td>\n",
       "      <td>-0.130161</td>\n",
       "    </tr>\n",
       "    <tr>\n",
       "      <th>21</th>\n",
       "      <td>2000</td>\n",
       "      <td>19.37</td>\n",
       "      <td>-0.222088</td>\n",
       "      <td>4.105</td>\n",
       "      <td>-0.396057</td>\n",
       "      <td>4.917</td>\n",
       "      <td>-0.180773</td>\n",
       "    </tr>\n",
       "    <tr>\n",
       "      <th>22</th>\n",
       "      <td>1999</td>\n",
       "      <td>24.90</td>\n",
       "      <td>0.311907</td>\n",
       "      <td>6.797</td>\n",
       "      <td>0.557873</td>\n",
       "      <td>6.002</td>\n",
       "      <td>0.056876</td>\n",
       "    </tr>\n",
       "    <tr>\n",
       "      <th>23</th>\n",
       "      <td>1998</td>\n",
       "      <td>18.98</td>\n",
       "      <td>NaN</td>\n",
       "      <td>4.363</td>\n",
       "      <td>0.304335</td>\n",
       "      <td>5.679</td>\n",
       "      <td>0.217885</td>\n",
       "    </tr>\n",
       "    <tr>\n",
       "      <th>24</th>\n",
       "      <td>1997</td>\n",
       "      <td>NaN</td>\n",
       "      <td>NaN</td>\n",
       "      <td>3.345</td>\n",
       "      <td>0.022623</td>\n",
       "      <td>4.663</td>\n",
       "      <td>0.106287</td>\n",
       "    </tr>\n",
       "    <tr>\n",
       "      <th>25</th>\n",
       "      <td>1996</td>\n",
       "      <td>NaN</td>\n",
       "      <td>NaN</td>\n",
       "      <td>3.271</td>\n",
       "      <td>0.078470</td>\n",
       "      <td>4.215</td>\n",
       "      <td>0.108627</td>\n",
       "    </tr>\n",
       "    <tr>\n",
       "      <th>26</th>\n",
       "      <td>1995</td>\n",
       "      <td>NaN</td>\n",
       "      <td>NaN</td>\n",
       "      <td>3.033</td>\n",
       "      <td>0.303395</td>\n",
       "      <td>3.802</td>\n",
       "      <td>0.255614</td>\n",
       "    </tr>\n",
       "    <tr>\n",
       "      <th>27</th>\n",
       "      <td>1994</td>\n",
       "      <td>NaN</td>\n",
       "      <td>NaN</td>\n",
       "      <td>2.327</td>\n",
       "      <td>-0.036040</td>\n",
       "      <td>3.028</td>\n",
       "      <td>-0.018158</td>\n",
       "    </tr>\n",
       "    <tr>\n",
       "      <th>28</th>\n",
       "      <td>1993</td>\n",
       "      <td>NaN</td>\n",
       "      <td>NaN</td>\n",
       "      <td>2.414</td>\n",
       "      <td>-0.058869</td>\n",
       "      <td>3.084</td>\n",
       "      <td>0.122679</td>\n",
       "    </tr>\n",
       "    <tr>\n",
       "      <th>29</th>\n",
       "      <td>1992</td>\n",
       "      <td>NaN</td>\n",
       "      <td>NaN</td>\n",
       "      <td>2.565</td>\n",
       "      <td>0.035109</td>\n",
       "      <td>2.747</td>\n",
       "      <td>0.073047</td>\n",
       "    </tr>\n",
       "    <tr>\n",
       "      <th>30</th>\n",
       "      <td>1991</td>\n",
       "      <td>NaN</td>\n",
       "      <td>NaN</td>\n",
       "      <td>2.478</td>\n",
       "      <td>0.336570</td>\n",
       "      <td>2.560</td>\n",
       "      <td>0.475504</td>\n",
       "    </tr>\n",
       "    <tr>\n",
       "      <th>31</th>\n",
       "      <td>1990</td>\n",
       "      <td>NaN</td>\n",
       "      <td>NaN</td>\n",
       "      <td>1.854</td>\n",
       "      <td>-0.079444</td>\n",
       "      <td>1.735</td>\n",
       "      <td>0.033969</td>\n",
       "    </tr>\n",
       "    <tr>\n",
       "      <th>32</th>\n",
       "      <td>1989</td>\n",
       "      <td>NaN</td>\n",
       "      <td>NaN</td>\n",
       "      <td>2.014</td>\n",
       "      <td>0.139140</td>\n",
       "      <td>1.678</td>\n",
       "      <td>0.327532</td>\n",
       "    </tr>\n",
       "    <tr>\n",
       "      <th>33</th>\n",
       "      <td>1988</td>\n",
       "      <td>NaN</td>\n",
       "      <td>NaN</td>\n",
       "      <td>1.768</td>\n",
       "      <td>0.207650</td>\n",
       "      <td>1.264</td>\n",
       "      <td>0.180205</td>\n",
       "    </tr>\n",
       "    <tr>\n",
       "      <th>34</th>\n",
       "      <td>1987</td>\n",
       "      <td>NaN</td>\n",
       "      <td>NaN</td>\n",
       "      <td>1.464</td>\n",
       "      <td>-0.111111</td>\n",
       "      <td>1.071</td>\n",
       "      <td>-0.051373</td>\n",
       "    </tr>\n",
       "    <tr>\n",
       "      <th>35</th>\n",
       "      <td>1986</td>\n",
       "      <td>NaN</td>\n",
       "      <td>NaN</td>\n",
       "      <td>1.647</td>\n",
       "      <td>0.033898</td>\n",
       "      <td>1.129</td>\n",
       "      <td>-0.090250</td>\n",
       "    </tr>\n",
       "    <tr>\n",
       "      <th>36</th>\n",
       "      <td>1985</td>\n",
       "      <td>NaN</td>\n",
       "      <td>NaN</td>\n",
       "      <td>1.593</td>\n",
       "      <td>NaN</td>\n",
       "      <td>1.241</td>\n",
       "      <td>NaN</td>\n",
       "    </tr>\n",
       "  </tbody>\n",
       "</table>\n",
       "</div>"
      ],
      "text/plain": [
       "    Year  MSEGX  % change   FOCPX  % change.1   FCNTX  % change.2\n",
       "0   2021  85.81  0.005861  18.490    0.055365  17.090    0.019690\n",
       "1   2020  85.31  0.957999  17.520    0.369820  16.760    0.222465\n",
       "2   2019  43.57  0.099697  12.790    0.285427  13.710    0.245232\n",
       "3   2018  39.62 -0.003772   9.950   -0.094219  11.010   -0.101004\n",
       "4   2017  39.77  0.170739  10.985    0.318411  12.247    0.243855\n",
       "5   2016  33.97 -0.135843   8.332   -0.001318   9.846   -0.004952\n",
       "6   2015  39.31  0.035291   8.343    0.048643   9.895    0.010003\n",
       "7   2014  37.97  0.009572   7.956    0.028040   9.797    0.019035\n",
       "8   2013  37.61  0.417640   7.739    0.277273   9.614    0.239397\n",
       "9   2012  26.53  0.151976   6.059    0.107678   7.757    0.149867\n",
       "10  2011  23.03 -0.033165   5.470   -0.004187   6.746   -0.003986\n",
       "11  2010  23.82  0.227835   5.493    0.201444   6.773    0.162148\n",
       "12  2009  19.40  0.624791   4.572    0.622427   5.828    0.287671\n",
       "13  2008  11.94 -0.511856   2.818   -0.459843   4.526   -0.380933\n",
       "14  2007  24.46  0.226065   5.217    0.261364   7.311    0.121319\n",
       "15  2006  19.95  0.038522   4.136    0.094469   6.520    0.006794\n",
       "16  2005  19.21  0.152370   3.779    0.089363   6.476    0.141346\n",
       "17  2004  16.67  0.072026   3.469    0.068371   5.674    0.149747\n",
       "18  2003  15.55  0.260130   3.247    0.358009   4.935    0.278497\n",
       "19  2002  12.34 -0.277518   2.391   -0.232916   3.860   -0.097498\n",
       "20  2001  17.08 -0.118224   3.117   -0.240682   4.277   -0.130161\n",
       "21  2000  19.37 -0.222088   4.105   -0.396057   4.917   -0.180773\n",
       "22  1999  24.90  0.311907   6.797    0.557873   6.002    0.056876\n",
       "23  1998  18.98       NaN   4.363    0.304335   5.679    0.217885\n",
       "24  1997    NaN       NaN   3.345    0.022623   4.663    0.106287\n",
       "25  1996    NaN       NaN   3.271    0.078470   4.215    0.108627\n",
       "26  1995    NaN       NaN   3.033    0.303395   3.802    0.255614\n",
       "27  1994    NaN       NaN   2.327   -0.036040   3.028   -0.018158\n",
       "28  1993    NaN       NaN   2.414   -0.058869   3.084    0.122679\n",
       "29  1992    NaN       NaN   2.565    0.035109   2.747    0.073047\n",
       "30  1991    NaN       NaN   2.478    0.336570   2.560    0.475504\n",
       "31  1990    NaN       NaN   1.854   -0.079444   1.735    0.033969\n",
       "32  1989    NaN       NaN   2.014    0.139140   1.678    0.327532\n",
       "33  1988    NaN       NaN   1.768    0.207650   1.264    0.180205\n",
       "34  1987    NaN       NaN   1.464   -0.111111   1.071   -0.051373\n",
       "35  1986    NaN       NaN   1.647    0.033898   1.129   -0.090250\n",
       "36  1985    NaN       NaN   1.593         NaN   1.241         NaN"
      ]
     },
     "execution_count": 4,
     "metadata": {},
     "output_type": "execute_result"
    }
   ],
   "source": [
    "fid"
   ]
  },
  {
   "cell_type": "code",
   "execution_count": 5,
   "metadata": {},
   "outputs": [],
   "source": [
    "# Import the libraries\n",
    "import matplotlib.pyplot as plt\n",
    "import seaborn as sns"
   ]
  },
  {
   "cell_type": "code",
   "execution_count": 6,
   "metadata": {},
   "outputs": [
    {
     "data": {
      "text/plain": [
       "(array([1., 0., 0., 0., 0., 1., 0., 1., 0., 2., 0., 1., 3., 2., 2., 0., 3.,\n",
       "        0., 3., 0., 1., 0., 1., 0., 0., 0., 0., 1., 0., 0., 0., 0., 0., 0.,\n",
       "        0., 1.]),\n",
       " array([-0.51185609, -0.47102679, -0.4301975 , -0.3893682 , -0.3485389 ,\n",
       "        -0.3077096 , -0.26688031, -0.22605101, -0.18522171, -0.14439241,\n",
       "        -0.10356312, -0.06273382, -0.02190452,  0.01892478,  0.05975407,\n",
       "         0.10058337,  0.14141267,  0.18224197,  0.22307127,  0.26390056,\n",
       "         0.30472986,  0.34555916,  0.38638846,  0.42721775,  0.46804705,\n",
       "         0.50887635,  0.54970565,  0.59053494,  0.63136424,  0.67219354,\n",
       "         0.71302284,  0.75385213,  0.79468143,  0.83551073,  0.87634003,\n",
       "         0.91716933,  0.95799862]),\n",
       " <BarContainer object of 36 artists>)"
      ]
     },
     "execution_count": 6,
     "metadata": {},
     "output_type": "execute_result"
    },
    {
     "data": {
      "image/png": "[encoded data removed]",
      "text/plain": [
       "<Figure size 432x288 with 1 Axes>"
      ]
     },
     "metadata": {
      "needs_background": "light"
     },
     "output_type": "display_data"
    }
   ],
   "source": [
    "# matplotlib histogram\n",
    "plt.hist(fid['% change'], color = 'blue', edgecolor = 'black',\n",
    "         bins = int(180/5))"
   ]
  },
  {
   "cell_type": "code",
   "execution_count": 7,
   "metadata": {
    "scrolled": true
   },
   "outputs": [
    {
     "data": {
      "text/plain": [
       "(array([1., 2., 2., 7., 4., 4., 1., 1., 0., 1.]),\n",
       " array([-0.51185609, -0.36487062, -0.21788515, -0.07089968,  0.07608579,\n",
       "         0.22307127,  0.37005674,  0.51704221,  0.66402768,  0.81101315,\n",
       "         0.95799862]),\n",
       " <BarContainer object of 10 artists>)"
      ]
     },
     "execution_count": 7,
     "metadata": {},
     "output_type": "execute_result"
    },
    {
     "data": {
      "image/png": "[encoded data removed]",
      "text/plain": [
       "<Figure size 432x288 with 1 Axes>"
      ]
     },
     "metadata": {
      "needs_background": "light"
     },
     "output_type": "display_data"
    }
   ],
   "source": [
    "# matplotlib histogram\n",
    "plt.hist(fid['% change'], color = 'blue', edgecolor = 'black',\n",
    "         bins = int(50/5))"
   ]
  },
  {
   "cell_type": "code",
   "execution_count": 8,
   "metadata": {},
   "outputs": [
    {
     "data": {
      "text/plain": [
       "(array([1., 0., 0., 0., 0., 0., 0., 0., 0., 0., 0., 0., 0., 0., 0., 1., 0.,\n",
       "        0., 0., 1., 0., 0., 0., 0., 0., 1., 1., 0., 0., 0., 0., 0., 1., 0.,\n",
       "        1., 2., 0., 2., 0., 1., 0., 1., 0., 0., 0., 2., 1., 0., 0., 0., 2.,\n",
       "        0., 1., 0., 0., 0., 1., 0., 0., 0., 0., 0., 0., 1., 0., 0., 0., 0.,\n",
       "        0., 0., 0., 0., 0., 0., 0., 0., 0., 1., 0., 0., 0., 0., 0., 0., 0.,\n",
       "        0., 0., 0., 0., 0., 0., 0., 0., 0., 0., 0., 0., 0., 0., 1.]),\n",
       " array([-0.51185609, -0.49715754, -0.482459  , -0.46776045, -0.4530619 ,\n",
       "        -0.43836336, -0.42366481, -0.40896626, -0.39426771, -0.37956917,\n",
       "        -0.36487062, -0.35017207, -0.33547353, -0.32077498, -0.30607643,\n",
       "        -0.29137788, -0.27667934, -0.26198079, -0.24728224, -0.2325837 ,\n",
       "        -0.21788515, -0.2031866 , -0.18848805, -0.17378951, -0.15909096,\n",
       "        -0.14439241, -0.12969387, -0.11499532, -0.10029677, -0.08559822,\n",
       "        -0.07089968, -0.05620113, -0.04150258, -0.02680404, -0.01210549,\n",
       "         0.00259306,  0.01729161,  0.03199015,  0.0466887 ,  0.06138725,\n",
       "         0.07608579,  0.09078434,  0.10548289,  0.12018144,  0.13487998,\n",
       "         0.14957853,  0.16427708,  0.17897562,  0.19367417,  0.20837272,\n",
       "         0.22307127,  0.23776981,  0.25246836,  0.26716691,  0.28186545,\n",
       "         0.296564  ,  0.31126255,  0.3259611 ,  0.34065964,  0.35535819,\n",
       "         0.37005674,  0.38475528,  0.39945383,  0.41415238,  0.42885093,\n",
       "         0.44354947,  0.45824802,  0.47294657,  0.48764511,  0.50234366,\n",
       "         0.51704221,  0.53174076,  0.5464393 ,  0.56113785,  0.5758364 ,\n",
       "         0.59053494,  0.60523349,  0.61993204,  0.63463059,  0.64932913,\n",
       "         0.66402768,  0.67872623,  0.69342477,  0.70812332,  0.72282187,\n",
       "         0.73752042,  0.75221896,  0.76691751,  0.78161606,  0.7963146 ,\n",
       "         0.81101315,  0.8257117 ,  0.84041025,  0.85510879,  0.86980734,\n",
       "         0.88450589,  0.89920443,  0.91390298,  0.92860153,  0.94330008,\n",
       "         0.95799862]),\n",
       " <BarContainer object of 100 artists>)"
      ]
     },
     "execution_count": 8,
     "metadata": {},
     "output_type": "execute_result"
    },
    {
     "data": {
      "image/png": "[encoded data removed]",
      "text/plain": [
       "<Figure size 432x288 with 1 Axes>"
      ]
     },
     "metadata": {
      "needs_background": "light"
     },
     "output_type": "display_data"
    }
   ],
   "source": [
    "# matplotlib histogram\n",
    "plt.hist(fid['% change'], color = 'blue', edgecolor = 'black',\n",
    "         bins = int(500/5))"
   ]
  },
  {
   "cell_type": "code",
   "execution_count": 9,
   "metadata": {},
   "outputs": [
    {
     "data": {
      "text/plain": [
       "(array([1., 0., 1., 1., 2., 6., 2., 3., 4., 0., 1., 0., 1., 0., 0., 1.]),\n",
       " array([-0.51185609, -0.41999017, -0.32812425, -0.23625833, -0.14439241,\n",
       "        -0.05252649,  0.03933943,  0.13120535,  0.22307127,  0.31493719,\n",
       "         0.4068031 ,  0.49866902,  0.59053494,  0.68240086,  0.77426678,\n",
       "         0.8661327 ,  0.95799862]),\n",
       " <BarContainer object of 16 artists>)"
      ]
     },
     "execution_count": 9,
     "metadata": {},
     "output_type": "execute_result"
    },
    {
     "data": {
      "image/png": "[encoded data removed]",
      "text/plain": [
       "<Figure size 432x288 with 1 Axes>"
      ]
     },
     "metadata": {
      "needs_background": "light"
     },
     "output_type": "display_data"
    }
   ],
   "source": [
    "# matplotlib histogram\n",
    "plt.hist(fid['% change'], color = 'blue', edgecolor = 'black',\n",
    "         bins = int(80/5))"
   ]
  },
  {
   "cell_type": "code",
   "execution_count": 10,
   "metadata": {},
   "outputs": [
    {
     "data": {
      "text/plain": [
       "(array([1., 0., 1., 0., 0., 0., 0., 2., 0., 0., 0., 1., 2., 1., 1., 2., 5.,\n",
       "        3., 3., 1., 0., 1., 1., 1., 2., 3., 1., 2., 0., 0., 0., 0., 0., 1.,\n",
       "        0., 1.]),\n",
       " array([-0.45984282, -0.42977976, -0.39971671, -0.36965365, -0.33959059,\n",
       "        -0.30952753, -0.27946448, -0.24940142, -0.21933836, -0.1892753 ,\n",
       "        -0.15921225, -0.12914919, -0.09908613, -0.06902307, -0.03896002,\n",
       "        -0.00889696,  0.0211661 ,  0.05122916,  0.08129222,  0.11135527,\n",
       "         0.14141833,  0.17148139,  0.20154445,  0.2316075 ,  0.26167056,\n",
       "         0.29173362,  0.32179668,  0.35185973,  0.38192279,  0.41198585,\n",
       "         0.44204891,  0.47211196,  0.50217502,  0.53223808,  0.56230114,\n",
       "         0.5923642 ,  0.62242725]),\n",
       " <BarContainer object of 36 artists>)"
      ]
     },
     "execution_count": 10,
     "metadata": {},
     "output_type": "execute_result"
    },
    {
     "data": {
      "image/png": "[encoded data removed]",
      "text/plain": [
       "<Figure size 432x288 with 1 Axes>"
      ]
     },
     "metadata": {
      "needs_background": "light"
     },
     "output_type": "display_data"
    }
   ],
   "source": [
    "# matplotlib histogram\n",
    "plt.hist(fid['% change.1'], color = 'blue', edgecolor = 'black',\n",
    "         bins = int(180/5))"
   ]
  },
  {
   "cell_type": "code",
   "execution_count": 11,
   "metadata": {},
   "outputs": [
    {
     "data": {
      "text/plain": [
       "(array([1., 0., 0., 0., 0., 0., 0., 0., 1., 0., 1., 2., 1., 1., 0., 3., 4.,\n",
       "        1., 1., 1., 2., 3., 3., 1., 0., 2., 4., 1., 1., 1., 0., 0., 0., 0.,\n",
       "        0., 1.]),\n",
       " array([-3.80932841e-01, -3.57142920e-01, -3.33352999e-01, -3.09563077e-01,\n",
       "        -2.85773156e-01, -2.61983235e-01, -2.38193314e-01, -2.14403392e-01,\n",
       "        -1.90613471e-01, -1.66823550e-01, -1.43033629e-01, -1.19243708e-01,\n",
       "        -9.54537863e-02, -7.16638651e-02, -4.78739439e-02, -2.40840227e-02,\n",
       "        -2.94101444e-04,  2.34958198e-02,  4.72857410e-02,  7.10756622e-02,\n",
       "         9.48655834e-02,  1.18655505e-01,  1.42445426e-01,  1.66235347e-01,\n",
       "         1.90025268e-01,  2.13815190e-01,  2.37605111e-01,  2.61395032e-01,\n",
       "         2.85184953e-01,  3.08974874e-01,  3.32764796e-01,  3.56554717e-01,\n",
       "         3.80344638e-01,  4.04134559e-01,  4.27924481e-01,  4.51714402e-01,\n",
       "         4.75504323e-01]),\n",
       " <BarContainer object of 36 artists>)"
      ]
     },
     "execution_count": 11,
     "metadata": {},
     "output_type": "execute_result"
    },
    {
     "data": {
      "image/png": "[encoded data removed]",
      "text/plain": [
       "<Figure size 432x288 with 1 Axes>"
      ]
     },
     "metadata": {
      "needs_background": "light"
     },
     "output_type": "display_data"
    }
   ],
   "source": [
    "# matplotlib histogram\n",
    "plt.hist(fid['% change.2'], color = 'blue', edgecolor = 'black',\n",
    "         bins = int(180/5))"
   ]
  },
  {
   "cell_type": "code",
   "execution_count": 12,
   "metadata": {},
   "outputs": [
    {
     "data": {
      "text/plain": [
       "(array([1., 0., 0., 0., 0., 1., 0., 1., 0., 2., 0., 1., 3., 2., 2., 0., 3.,\n",
       "        0., 3., 0., 1., 0., 1., 0., 0., 0., 0., 1., 0., 0., 0., 0., 0., 0.,\n",
       "        0., 1.]),\n",
       " array([-0.51185609, -0.47102679, -0.4301975 , -0.3893682 , -0.3485389 ,\n",
       "        -0.3077096 , -0.26688031, -0.22605101, -0.18522171, -0.14439241,\n",
       "        -0.10356312, -0.06273382, -0.02190452,  0.01892478,  0.05975407,\n",
       "         0.10058337,  0.14141267,  0.18224197,  0.22307127,  0.26390056,\n",
       "         0.30472986,  0.34555916,  0.38638846,  0.42721775,  0.46804705,\n",
       "         0.50887635,  0.54970565,  0.59053494,  0.63136424,  0.67219354,\n",
       "         0.71302284,  0.75385213,  0.79468143,  0.83551073,  0.87634003,\n",
       "         0.91716933,  0.95799862]),\n",
       " <BarContainer object of 36 artists>)"
      ]
     },
     "execution_count": 12,
     "metadata": {},
     "output_type": "execute_result"
    },
    {
     "data": {
      "image/png": "[encoded data removed]",
      "text/plain": [
       "<Figure size 432x288 with 1 Axes>"
      ]
     },
     "metadata": {
      "needs_background": "light"
     },
     "output_type": "display_data"
    }
   ],
   "source": [
    "# matplotlib histogram\n",
    "plt.hist(fid['% change'], color = 'blue', edgecolor = 'black',\n",
    "         bins = int(180/5))"
   ]
  },
  {
   "cell_type": "code",
   "execution_count": null,
   "metadata": {},
   "outputs": [],
   "source": []
  }
 ],
 "metadata": {
  "kernelspec": {
   "display_name": "Python 3",
   "language": "python",
   "name": "python3"
  },
  "language_info": {
   "codemirror_mode": {
    "name": "ipython",
    "version": 3
   },
   "file_extension": ".py",
   "mimetype": "text/x-python",
   "name": "python",
   "nbconvert_exporter": "python",
   "pygments_lexer": "ipython3",
   "version": "3.8.5"
  }
 },
 "nbformat": 4,
 "nbformat_minor": 4
}
